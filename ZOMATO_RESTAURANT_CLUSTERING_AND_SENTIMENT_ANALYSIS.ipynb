{
  "nbformat": 4,
  "nbformat_minor": 0,
  "metadata": {
    "colab": {
      "name": "ZOMATO_RESTAURANT_CLUSTERING_AND_SENTIMENT_ANALYSIS",
      "provenance": [],
      "collapsed_sections": [],
      "authorship_tag": "ABX9TyMPHQkAj462O3I0vFnaQ2H3",
      "include_colab_link": true
    },
    "kernelspec": {
      "name": "python3",
      "display_name": "Python 3"
    },
    "language_info": {
      "name": "python"
    }
  },
  "cells": [
    {
      "cell_type": "markdown",
      "metadata": {
        "id": "view-in-github",
        "colab_type": "text"
      },
      "source": [
        "<a href=\"https://colab.research.google.com/github/Mayank0195/Capstone_Project_Zomato_Resturant_Clustering_and_Sentimental_Analysis/blob/main/ZOMATO_RESTAURANT_CLUSTERING_AND_SENTIMENT_ANALYSIS.ipynb\" target=\"_parent\"><img src=\"https://colab.research.google.com/assets/colab-badge.svg\" alt=\"Open In Colab\"/></a>"
      ]
    },
    {
      "cell_type": "markdown",
      "source": [
        "# **Problem Statement**"
      ],
      "metadata": {
        "id": "9igk5Mr7dY3P"
      }
    },
    {
      "cell_type": "markdown",
      "source": [
        "Zomato is an Indian restaurant aggregator and food delivery start-up founded by Deepinder Goyal and Pankaj Chaddah in 2008. Zomato provides information, menus and user-reviews of restaurants, and also has food delivery options from partner restaurants in select cities.\n",
        "\n",
        "India is quite famous for its diverse multi cuisine available in a large number of restaurants and hotel resorts, which is reminiscent of unity in diversity. Restaurant business in India is always evolving. More Indians are warming up to the idea of eating restaurant food whether by dining outside or getting food delivered. The growing number of restaurants in every state of India has been a motivation to inspect the data to get some insights, interesting facts and figures about the Indian food industry in each city. So, this project focuses on analysing the Zomato restaurant data for each city in India.\n",
        "\n",
        "The Project focuses on Customers and Company, you have  to analyze the sentiments of the reviews given by the customer in the data and made some useful conclusion in the form of Visualizations. Also, cluster the zomato restaurants into different segments. The data is vizualized as it becomes easy to analyse data at instant. The Analysis also solve some of the business cases that can directly help the customers finding the Best restaurant in their locality and for the company to grow up and work on the fields they are currently lagging in.\n",
        "\n",
        "This could help in clustering the restaurants into segments. Also the data has valuable information around cuisine and costing which can be used in cost vs. benefit analysis\n",
        "\n",
        "Data could be used for sentiment analysis. Also the metadata of reviewers can be used for identifying the critics in the industry. "
      ],
      "metadata": {
        "id": "cqXNvQ9hdWrm"
      }
    },
    {
      "cell_type": "markdown",
      "source": [
        "### **Attribute Information**"
      ],
      "metadata": {
        "id": "cHDlcm4tdjfe"
      }
    },
    {
      "cell_type": "markdown",
      "source": [
        "#### **Zomato Restaurant names and Metadata**\n",
        "Use this dataset for clustering part"
      ],
      "metadata": {
        "id": "W049-wwldnjo"
      }
    },
    {
      "cell_type": "markdown",
      "source": [
        "1. Restaurant : Name of the Restaurant\n",
        "\n",
        "2. Reviewer : Name of the Reviewer\n",
        "\n",
        "3. Review : Review Text\n",
        "\n",
        "4. Rating : Rating Provided by Reviewer\n",
        "\n",
        "5. MetaData : Reviewer Metadata - No. of Reviews and followers\n",
        "\n",
        "6. Time: Date and Time of Review\n",
        "\n",
        "7. Pictures : No. of pictures posted with review"
      ],
      "metadata": {
        "id": "5jqPW5BHdqg4"
      }
    },
    {
      "cell_type": "markdown",
      "source": [
        "###**Notebook Breakdown:**\n",
        "* Business Problem Analysis\n",
        "* Data Collection\n",
        "* Data Cleaning and Preprocessing\n",
        "* Feature Engineering\n",
        "* Exploratory Data Analysis\n",
        "    - Best Restaurants in the City\n",
        "    - The Most Popular Cuisines in Hyderabad\n",
        "    - Restaurants and their Costs\n",
        "    - Cost-Benefit Analysis\n",
        "    - Hypotheses Generation on visualized data for Clustering\n",
        "* Restaurant Clustering\n",
        "    - K means Clustering on Cost and Ratings\n",
        "    - Multi-Dimensional K means Restaurant Clustering \n",
        "        -  Principal Component Analysis\n",
        "        -  Silhouette Score\n",
        "        -  K means Clustering\n",
        "        -  Cluster Exploration\n",
        "* Sentiment Analysis \n",
        "    -  Exploratory Data Analysis\n",
        "        -  Critics in the Industry\n",
        "    -  Text Pre-Processing and Text Visualization\n",
        "    - Modeling\n",
        "* Conclusion"
      ],
      "metadata": {
        "id": "VfF0GNDqdx8I"
      }
    },
    {
      "cell_type": "markdown",
      "source": [
        "###**Business Problem Analysis**\n",
        "\n",
        "Indian cuisine consists of a variety of regional and traditional cuisines native to the Indian subcontinent. With every state, you can find something different to love. Besides traditional North Indian and South Indian food, the food culture is heavily inspired by and evolved around various civilizations. To say that Indians are food lovers would be an understatement. \n",
        "The restaurant business in India has been booming and people even like to celebrate small occasions of their lives with good food and great ambiance. \n",
        "Here comes Zomato, connecting people and restaurants.\n",
        "Zomato is an Indian restaurant aggregator which provides information, menus, and user reviews of restaurants, and also has food delivery options. They basically take orders on the restaurant's behalf and get the food delivered at the convenience of your doorstep.\n",
        "\n",
        "The problem statement here has two datasets for us to work on:\n",
        "* Zomato Restaurant Names and Metadata\n",
        "* Zomato Restaurant Reviews\n",
        "\n",
        "To assure Zomato's success it is important for the company to analyze its datasets and make appropriate strategic decisions. The problem statement here asks us to cluster the restaurants to help customers find the best restaurants in their city and according to their taste and understand the fields they are lagging in. This will help Zomato in building a good recommendation system for their customers. Do a cost-benefit analysis using the cuisines and costs of the restaurants.\n",
        "In order to understand fields that need to be worked upon, it is important to do sentiment analysis to get an idea about how people really feel about a particular restaurant. To identify the industry critics and  especially work on their reviews to build a reputation worth praising.\n"
      ],
      "metadata": {
        "id": "t-x8dLPrd1jB"
      }
    },
    {
      "cell_type": "code",
      "execution_count": 1,
      "metadata": {
        "id": "7p6m17fCcYi8"
      },
      "outputs": [],
      "source": [
        "#importing all the important librarys\n",
        "import pandas as pd\n",
        "import numpy as np\n",
        "import matplotlib.pyplot as plt\n",
        "import seaborn as sns\n",
        "import math\n",
        "import time\n",
        "from wordcloud import WordCloud\n",
        "from sklearn.metrics import accuracy_score, confusion_matrix, classification_report, roc_auc_score, plot_precision_recall_curve\n",
        "from sklearn.metrics import precision_score,recall_score,f1_score\n",
        "from sklearn.linear_model import LogisticRegression\n",
        "from sklearn.model_selection import train_test_split\n",
        "from sklearn.model_selection import GridSearchCV\n",
        "from sklearn.preprocessing import MinMaxScaler\n",
        "import warnings\n",
        "warnings.filterwarnings(\"ignore\")\n",
        "%matplotlib inline\n",
        "sns.set_style(\"whitegrid\",{'grid.linestyle': '--'})\n",
        "plt.rcParams.update({'figure.figsize':(8,5),'figure.dpi':100})\n",
        "from datetime import datetime\n",
        "\n",
        "# Set the display figure size using rcParams method \n",
        "sns.set(rc={'figure.figsize':(10,6)})\n",
        "plt.rcParams['figure.figsize'] = [10,6]\n",
        "\n"
      ]
    },
    {
      "cell_type": "markdown",
      "source": [
        "## **1. Dataset Reading**"
      ],
      "metadata": {
        "id": "OfI-pcJAglKH"
      }
    },
    {
      "cell_type": "code",
      "source": [
        "#mounting drive\n",
        "from google.colab import drive\n",
        "drive.mount('/content/drive')"
      ],
      "metadata": {
        "id": "4JHoUTpWeRjx"
      },
      "execution_count": null,
      "outputs": []
    },
    {
      "cell_type": "code",
      "source": [
        "#reading datasets\n",
        "rest_df = pd.read_csv(\"/content/drive/MyDrive/AlmaBetter/Capstone_Project_ML_Unsupervised/Zomato Restaurant names and Metadata.csv\")\n",
        "reviews_df = pd.read_csv(\"/content/drive/MyDrive/AlmaBetter/Capstone_Project_ML_Unsupervised/Zomato Restaurant reviews.csv\")"
      ],
      "metadata": {
        "id": "IfKGUdc1dWI5"
      },
      "execution_count": null,
      "outputs": []
    },
    {
      "cell_type": "markdown",
      "source": [
        "### **Checking the Head and Tail of the Metadata and Reviews**"
      ],
      "metadata": {
        "id": "yDzJYO9Bg4QP"
      }
    },
    {
      "cell_type": "code",
      "source": [
        "rest_df.head()"
      ],
      "metadata": {
        "id": "0mc6Ytr0fwMC"
      },
      "execution_count": null,
      "outputs": []
    },
    {
      "cell_type": "code",
      "source": [
        "rest_df.tail()"
      ],
      "metadata": {
        "id": "m3UjWLSzhBFB"
      },
      "execution_count": null,
      "outputs": []
    },
    {
      "cell_type": "code",
      "source": [
        "#first five rows of reviews dataset\n",
        "reviews_df.head()"
      ],
      "metadata": {
        "id": "GLx2ETtXfwwr"
      },
      "execution_count": null,
      "outputs": []
    },
    {
      "cell_type": "code",
      "source": [
        "reviews_df.tail()"
      ],
      "metadata": {
        "id": "0Z9JzLnHhD6H"
      },
      "execution_count": null,
      "outputs": []
    },
    {
      "cell_type": "markdown",
      "source": [
        "## **2. Dataset Discovery**"
      ],
      "metadata": {
        "id": "VEeEV4bzhNon"
      }
    },
    {
      "cell_type": "markdown",
      "source": [
        "**dicovering the dataset and get a notion of what the attributes describe.**"
      ],
      "metadata": {
        "id": "vLu92bPihS52"
      }
    },
    {
      "cell_type": "code",
      "source": [
        "rest_df.count()"
      ],
      "metadata": {
        "id": "XBTq5oOQhLPK"
      },
      "execution_count": null,
      "outputs": []
    },
    {
      "cell_type": "code",
      "source": [
        "reviews_df.count()"
      ],
      "metadata": {
        "id": "TId87XC6hZrN"
      },
      "execution_count": null,
      "outputs": []
    },
    {
      "cell_type": "code",
      "source": [
        "rest_df.columns"
      ],
      "metadata": {
        "id": "ypIfSQ8shiX3"
      },
      "execution_count": null,
      "outputs": []
    },
    {
      "cell_type": "code",
      "source": [
        "reviews_df.columns"
      ],
      "metadata": {
        "id": "wv3Hm__ThmEv"
      },
      "execution_count": null,
      "outputs": []
    },
    {
      "cell_type": "code",
      "source": [
        "rest_df.shape"
      ],
      "metadata": {
        "id": "_vgFEpL0hrZe"
      },
      "execution_count": null,
      "outputs": []
    },
    {
      "cell_type": "code",
      "source": [
        "reviews_df.shape"
      ],
      "metadata": {
        "id": "Jv-JOdJ1hts4"
      },
      "execution_count": null,
      "outputs": []
    },
    {
      "cell_type": "code",
      "source": [
        "#restaurnts info - null count and dtypes \n",
        "rest_df.info()"
      ],
      "metadata": {
        "id": "WGIVbUGKf-l4"
      },
      "execution_count": null,
      "outputs": []
    },
    {
      "cell_type": "code",
      "source": [
        "reviews_df.info()"
      ],
      "metadata": {
        "id": "DELkxGvbgJys"
      },
      "execution_count": null,
      "outputs": []
    },
    {
      "cell_type": "code",
      "source": [
        "rest_df.describe().transpose()"
      ],
      "metadata": {
        "id": "xyZogYyzh39D"
      },
      "execution_count": null,
      "outputs": []
    },
    {
      "cell_type": "code",
      "source": [
        "reviews_df.describe()"
      ],
      "metadata": {
        "id": "xoOebgWsh7rh"
      },
      "execution_count": null,
      "outputs": []
    },
    {
      "cell_type": "markdown",
      "source": [
        "## **3.DATA CLEANING**"
      ],
      "metadata": {
        "id": "DQW24SnJj-oU"
      }
    },
    {
      "cell_type": "code",
      "source": [
        "import missingno as msno\n",
        "msno.matrix(rest_df)\n",
        "plt.show()"
      ],
      "metadata": {
        "id": "RW1zC7w_i9SA"
      },
      "execution_count": null,
      "outputs": []
    },
    {
      "cell_type": "code",
      "source": [
        "# finding the count of null values\n",
        "rest_df.isnull().sum()"
      ],
      "metadata": {
        "id": "rj4rZ-MTmWXo"
      },
      "execution_count": null,
      "outputs": []
    },
    {
      "cell_type": "markdown",
      "source": [
        "**Around 50% of the data is missing in the categorical column \"Collections\", which are basically just tags given by zomato for better search results.**\n",
        "**Even when imputed with various categorical data imputing measures, it would be pretty difficult to match similar tags as the restaurants and then even more difficult to then convert them into a meaningful numerical feature afterward.**\n",
        "\n",
        "**If the information contained in the variable is not that high, it is better to drop the variable if it has 50% or more missing values.**"
      ],
      "metadata": {
        "id": "Ccahkyhijm6D"
      }
    },
    {
      "cell_type": "code",
      "source": [
        "#drop collections\n",
        "rest_df.drop('Collections', axis=1, inplace=True)"
      ],
      "metadata": {
        "id": "-ajxpT6SjKyz"
      },
      "execution_count": null,
      "outputs": []
    },
    {
      "cell_type": "code",
      "source": [
        "#Impute one missing timing row with the mode\n",
        "rest_df['Timings'].fillna(rest_df['Timings'].mode()[0],inplace=True)"
      ],
      "metadata": {
        "id": "ic4nK8-gkNOh"
      },
      "execution_count": null,
      "outputs": []
    },
    {
      "cell_type": "code",
      "source": [
        "#check nulls\n",
        "rest_df.isnull().sum()"
      ],
      "metadata": {
        "id": "ebhqRz6HkN67"
      },
      "execution_count": null,
      "outputs": []
    },
    {
      "cell_type": "code",
      "source": [
        "rest_df.Cost.unique()"
      ],
      "metadata": {
        "id": "6CO_ejg9kRLE"
      },
      "execution_count": null,
      "outputs": []
    },
    {
      "cell_type": "code",
      "source": [
        "# changing cost datatype\n",
        "rest_df['Cost'] = rest_df['Cost'].str.replace(',','')\n",
        "rest_df['Cost'] = rest_df['Cost'].astype('int')"
      ],
      "metadata": {
        "id": "zKPW4-dCkq7s"
      },
      "execution_count": null,
      "outputs": []
    },
    {
      "cell_type": "code",
      "source": [
        "import missingno as msno\n",
        "msno.matrix(reviews_df)\n",
        "plt.show()"
      ],
      "metadata": {
        "id": "dCYlkL8fjGuD"
      },
      "execution_count": null,
      "outputs": []
    },
    {
      "cell_type": "markdown",
      "source": [
        "**The \"Review\" column has text that needs to be analyzed to understand the sentiments and without it, the analysis cannot be done. It can also be seen that most of the null values in the review column also have nulls in other corresponding columns such as Reviewer, Rating, Metadata, and Time. These instances should be dropped.**"
      ],
      "metadata": {
        "id": "zwwEGE9ck9Tc"
      }
    },
    {
      "cell_type": "code",
      "source": [
        "# finding the count of null values\n",
        "reviews_df.isnull().sum()"
      ],
      "metadata": {
        "id": "Xqo46qbamUXt"
      },
      "execution_count": null,
      "outputs": []
    },
    {
      "cell_type": "code",
      "source": [
        "#dropping null rows in reviews first\n",
        "reviews_df.dropna(subset = [\"Review\"], inplace=True)"
      ],
      "metadata": {
        "id": "yoQ8bvPwkuJf"
      },
      "execution_count": null,
      "outputs": []
    },
    {
      "cell_type": "code",
      "source": [
        "# checking\n",
        "reviews_df.isnull().sum()"
      ],
      "metadata": {
        "id": "Q9v9uiBtlGW4"
      },
      "execution_count": null,
      "outputs": []
    },
    {
      "cell_type": "code",
      "source": [
        "#rating is in object type\n",
        "reviews_df['Rating'].unique()"
      ],
      "metadata": {
        "id": "hhaBIXselIQu"
      },
      "execution_count": null,
      "outputs": []
    },
    {
      "cell_type": "code",
      "source": [
        "#like should not be here\n",
        "# correcting and changing the datatype\n",
        "reviews_df['Rating'] = reviews_df['Rating'].replace('Like','4')\n",
        "reviews_df['Rating'] = reviews_df['Rating'].astype('float')"
      ],
      "metadata": {
        "id": "txQeE3vxlYSC"
      },
      "execution_count": null,
      "outputs": []
    },
    {
      "cell_type": "markdown",
      "source": [
        "###**Feature Engineering**\n",
        "\n",
        "Feature engineering is the process of selecting, manipulating, and transforming raw data into meaningful numerical features that can be used by machine learning algorithms. \n",
        "\n",
        "\n",
        "\n",
        "\n",
        "####**Zomato Restaurant names and Metadata**\n",
        "\n",
        "First, the restaurants dataset has columns such as Links, Cuisine, and Timings which aren't directly interpretable.\n",
        "The location of the restaurant can be extracted by the Links column.\n",
        "Cuisines can be clubbed and categorized into a few categories and a total number of cuisines served by a particular restaurant.\n",
        "Timings can be categorized into thr"
      ],
      "metadata": {
        "id": "F_ysJJsVmxw8"
      }
    },
    {
      "cell_type": "code",
      "source": [
        "rest_df.head()"
      ],
      "metadata": {
        "id": "e0RfZ3W4lnpv"
      },
      "execution_count": null,
      "outputs": []
    },
    {
      "cell_type": "markdown",
      "source": [
        "**Links**"
      ],
      "metadata": {
        "id": "oD4WjeZtnFx-"
      }
    },
    {
      "cell_type": "code",
      "source": [
        "# link value\n",
        "rest_df.loc[0,'Links']"
      ],
      "metadata": {
        "id": "hCRQZ2Njm8CV"
      },
      "execution_count": null,
      "outputs": []
    },
    {
      "cell_type": "code",
      "source": [
        "#function to extract location of the restaurant\n",
        "def location(link):\n",
        "  link_elements = link.split(\"/\")\n",
        "  return link_elements[3]\n",
        "\n",
        "#create a location feature\n",
        "rest_df['Location'] = rest_df['Links'].apply(location)"
      ],
      "metadata": {
        "id": "JTjFULz_nJrS"
      },
      "execution_count": null,
      "outputs": []
    },
    {
      "cell_type": "code",
      "source": [
        "# looks like the dataset consists of the restaurants in Hyderabad\n",
        "rest_df['Location'].unique()"
      ],
      "metadata": {
        "id": "tLRkPG0GnXgN"
      },
      "execution_count": null,
      "outputs": []
    },
    {
      "cell_type": "code",
      "source": [
        "# exploring the other value\n",
        "rest_df[rest_df.isin(['thetiltbarrepublic'])].stack()"
      ],
      "metadata": {
        "id": "e_NGyxMfnaZy"
      },
      "execution_count": null,
      "outputs": []
    },
    {
      "cell_type": "code",
      "source": [
        "#doesnt have location\n",
        "rest_df.loc[68,:]"
      ],
      "metadata": {
        "id": "DwEqSMO9ngQp"
      },
      "execution_count": null,
      "outputs": []
    },
    {
      "cell_type": "code",
      "source": [
        "#dropping unnecessary columns\n",
        "rest_df.drop(['Links','Location'],axis=1,inplace=True)"
      ],
      "metadata": {
        "id": "jUiB6vrVnmmU"
      },
      "execution_count": null,
      "outputs": []
    },
    {
      "cell_type": "code",
      "source": [
        "rest_df.columns"
      ],
      "metadata": {
        "id": "yM5Xw9fGnzYM"
      },
      "execution_count": null,
      "outputs": []
    },
    {
      "cell_type": "code",
      "source": [
        "#let's drop time as it would not be required\n",
        "reviews_df.drop(['Time'],axis=1,inplace=True)"
      ],
      "metadata": {
        "id": "Aav3owwVn5zX"
      },
      "execution_count": null,
      "outputs": []
    },
    {
      "cell_type": "markdown",
      "source": [
        "## **Cuisines**\n",
        "\n",
        "Here, it can be seen that the various cuisines served by every restaurant are in the form of strings and it's important to categorize and create dummy variables for all the cuisines served.\n",
        "The procedure followed in doing this is as follows:\n",
        "* First, strings are split to get the cuisines in the list datatype.\n",
        "* A frequency dictionary is created to understand the unique cuisines and the frequency in which the cuisine occurs.\n",
        "* An attempt is made to the club and categorize various misspelled cuisines and get a minimized number of unique cuisines.\n",
        "* Next, we need these cuisines in the one-hot encoded form. To get these a data frame is created with the unique cuisines as columns and if a particular restaurant has this cuisine available we get a positive."
      ],
      "metadata": {
        "id": "j7lU9FWDoD-m"
      }
    },
    {
      "cell_type": "code",
      "source": [
        "#splitting to create list instead of strings\n",
        "rest_df['Cuisines'] = rest_df['Cuisines'].apply(lambda x : x.split(','))\n",
        "\n",
        "#creating a list of all cuisine lists for different restaurants\n",
        "cuisine_list = []\n",
        "for idx in rest_df.index:\n",
        "  cuisine_list.append(rest_df['Cuisines'][idx])\n",
        "\n",
        "#creating a flat list\n",
        "cuisine_list = [item for sublist in cuisine_list for item in sublist]"
      ],
      "metadata": {
        "id": "WDHX-cFdn9kT"
      },
      "execution_count": null,
      "outputs": []
    },
    {
      "cell_type": "code",
      "source": [
        "#frequency dict\n",
        "frequency_dict = {}\n",
        "for elem in cuisine_list:\n",
        "  if elem not in frequency_dict.keys():\n",
        "    frequency_dict[elem] = cuisine_list.count(elem)\n",
        "  else:\n",
        "    pass\n",
        "\n",
        "#frequency dictionary\n",
        "frequency_dict"
      ],
      "metadata": {
        "id": "VJDC4YSUonTG"
      },
      "execution_count": null,
      "outputs": []
    },
    {
      "cell_type": "markdown",
      "source": [
        "**It is observable that many of the cuisines are misspelled in terms of an extra space added at the beginning of the string. For example, there are two categories for North Indian food - 'North Indian' and ' North Indian'.**\n",
        "\n",
        "**Another point to note is there are various unnecessary categories made. For example, there are 'Chinese' and ' Momos' both in the dataset as different cuisines. Let's try to club and correct them.**"
      ],
      "metadata": {
        "id": "PYP7pyhfox0s"
      }
    },
    {
      "cell_type": "code",
      "source": [
        "#minimising the number of cuisines by sorting and categorizing them out\n",
        "cuisine_dict = {'Chinese':['Chinese',' Chinese','Momos',' Momos'],'North Indian':['North Indian',' North Indian',' BBQ','BBQ',' Biryani','Biryani','Kebab',' Kebab'],'Continental':['Continental',' Continental',' American','American',' BBQ','BBQ','Burger',' Burger','Finger Food',' Finger Food', ' Juices',' Pizza',' Salad',' Wraps'],\n",
        "                'Andhra':['Andhra',' Andhra'],'Arabian':['Arabian',' Arabian'],'Asian': ['Asian',' Asian'],'Bakery':['Bakery',' Bakery'],\n",
        "                'Beverages':['Beverages',' Beverages'],'Cafe':['Cafe',' Cafe'],'Desserts':['Desserts',' Desserts',' Mithai','Ice Cream'],\n",
        "                'European':['European',' European',' Spanish'],'Fast Food':['Fast Food',' Fast Food','Burger',' Burger'],'Goan':[' Goan',' Goan'],\n",
        "                'Hyderabadi':['Hyderabadi',' Hyderabadi',' Biryani','Biryani'],'Indonesian':['Indonesian',' Indonesian'],'Italian':['Italian',' Italian',' Pizza'],\n",
        "                'Japanese':['Japanese',' Japanese',' Sushi'],'Malaysian':['Malaysian',' Malaysian'],'Mediterranean':['Mediterranean',' Mediterranean'],\n",
        "                'Modern Indian':['Modern Indian',' Modern Indian',' Salad'],'Mughlai':['Mughlai',' Mughlai',' BBQ','BBQ','Kebab',' Kebab'],\n",
        "                'Seafood':['Seafood',' Seafood'],'South Indian':['South Indian',' South Indian'],\n",
        "                'Thai':['Thai',' Thai'],'Healthy Food':['Healthy Food'],'Lebanese':['Lebanese'],'Mexican':['Mexican'],'North Eastern':['North Eastern'],\n",
        "                'Street Food':['Street Food']}"
      ],
      "metadata": {
        "id": "mT6zBA_poqvY"
      },
      "execution_count": null,
      "outputs": []
    },
    {
      "cell_type": "code",
      "source": [
        "# just in case \n",
        "names_df = rest_df.copy()"
      ],
      "metadata": {
        "id": "cx0DqQSIo53m"
      },
      "execution_count": null,
      "outputs": []
    },
    {
      "cell_type": "code",
      "source": [
        "#the function returns a list of error free and mapped cuisines according to the dictionary created\n",
        "def cuisine_corrector(cuisine):\n",
        "  list1 = []\n",
        "  # for every cuisine in the list of a particular row\n",
        "  for elem in cuisine:\n",
        "    # and for every key value in the dict\n",
        "    for key,value in cuisine_dict.items():\n",
        "      # if cuisine is correct and matches with one of the unique keys we append to the list and break\n",
        "      if elem == key:\n",
        "        list1.append(key)\n",
        "        break\n",
        "      # next if the other elem doesnot match if search and value and append the key for that value\n",
        "      if elem in value:\n",
        "        list1.append(key)\n",
        "      \n",
        "  return list(set(list1)) # returns a unique cuisines list"
      ],
      "metadata": {
        "id": "DZD0IZTJo9iw"
      },
      "execution_count": null,
      "outputs": []
    },
    {
      "cell_type": "code",
      "source": [
        "#correcting and getting the desired lists as row values for cuisines column\n",
        "names_df['Cuisines'] = names_df['Cuisines'].apply(cuisine_corrector)"
      ],
      "metadata": {
        "id": "GoaRGjeno_5p"
      },
      "execution_count": null,
      "outputs": []
    },
    {
      "cell_type": "code",
      "source": [
        "#check\n",
        "names_df.head(3)"
      ],
      "metadata": {
        "id": "_4YbG8jnpEQa"
      },
      "execution_count": null,
      "outputs": []
    },
    {
      "cell_type": "markdown",
      "source": [
        "**The next step is to create column features for the unique cuisines and assign values according to the row values available.**"
      ],
      "metadata": {
        "id": "UoI6GQAqpSqb"
      }
    },
    {
      "cell_type": "code",
      "source": [
        "# concatenate new columns with the dataset\n",
        "names_df = pd.concat([names_df,pd.DataFrame(columns=list(cuisine_dict.keys()))])"
      ],
      "metadata": {
        "id": "oU0__swZpNd9"
      },
      "execution_count": null,
      "outputs": []
    },
    {
      "cell_type": "code",
      "source": [
        "# iterating for every row in the dataframe\n",
        "for i, row in names_df.iterrows():\n",
        "  # and for every row we iterate over the new columns only\n",
        "  for column in list(names_df.columns):\n",
        "      if column not in ['Name','Cost','Cuisines','Timings']:\n",
        "        # and check if the column is in the list of cuisines available for that row\n",
        "        if column in row['Cuisines']:\n",
        "          #then assign it as 1 else 0\n",
        "          names_df.loc[i,column] = 1\n",
        "        else:\n",
        "          names_df.loc[i,column] = 0"
      ],
      "metadata": {
        "id": "KOMyjp4DpvGs"
      },
      "execution_count": null,
      "outputs": []
    },
    {
      "cell_type": "code",
      "source": [
        "#let's check\n",
        "names_df.head(2)"
      ],
      "metadata": {
        "id": "MEO8CIHzpxK1"
      },
      "execution_count": null,
      "outputs": []
    },
    {
      "cell_type": "code",
      "source": [
        "# value for 1st restaurant and verifying \n",
        "names_df.loc[0,'Cuisines']"
      ],
      "metadata": {
        "id": "qUp8yjPmp1ga"
      },
      "execution_count": null,
      "outputs": []
    },
    {
      "cell_type": "code",
      "source": [
        "#creating a new column for the total number of cusines served by restaurants\n",
        "names_df['Total Cuisines'] = names_df['Cuisines'].apply(lambda x : len(x))\n"
      ],
      "metadata": {
        "id": "v19TbQ62p52s"
      },
      "execution_count": null,
      "outputs": []
    },
    {
      "cell_type": "code",
      "source": [
        "#drop cuisines column\n",
        "names_df.drop(['Cuisines'],axis=1,inplace=True)"
      ],
      "metadata": {
        "id": "WjxOEXOsqJB5"
      },
      "execution_count": null,
      "outputs": []
    },
    {
      "cell_type": "markdown",
      "source": [
        "**Timings**"
      ],
      "metadata": {
        "id": "UDEs-7lGqQ8N"
      }
    },
    {
      "cell_type": "code",
      "source": [
        "#analyse the unique values in Timings\n",
        "names_df['Timings'].unique()"
      ],
      "metadata": {
        "id": "9YkJhkjZqNur"
      },
      "execution_count": null,
      "outputs": []
    },
    {
      "cell_type": "markdown",
      "source": [
        "**Upon analyzing the unique values in the timings columns, it can be concluded that the restaurants are more or less open at the same timings and don't really provide a considerable variation in order to cluster the restaurants.**"
      ],
      "metadata": {
        "id": "JeDWL2gkqbaY"
      }
    },
    {
      "cell_type": "code",
      "source": [
        "#drop timings\n",
        "names_df.drop(['Timings'],axis=1,inplace=True)"
      ],
      "metadata": {
        "id": "fBHsU2DyqUFz"
      },
      "execution_count": null,
      "outputs": []
    },
    {
      "cell_type": "markdown",
      "source": [
        "**Restaurant Average Ratings**"
      ],
      "metadata": {
        "id": "V_U-a5p6qiaZ"
      }
    },
    {
      "cell_type": "code",
      "source": [
        "# groupby restaurant and ratings to get average ratings\n",
        "restaurant_ratings = reviews_df.groupby('Restaurant')['Rating'].mean().reset_index()\n",
        "restaurant_ratings.rename(columns={'Restaurant':'Name'},inplace=True)\n",
        "#sort restaurants according to ratings and getting top 5 restaurants\n",
        "restaurant_ratings.sort_values(by='Rating',ascending = False).head()"
      ],
      "metadata": {
        "id": "6h2t7L4zqf9w"
      },
      "execution_count": null,
      "outputs": []
    },
    {
      "cell_type": "code",
      "source": [
        "#adding an average rating feature in restaurant names and metadata dataframe\n",
        "names_df = names_df.merge(restaurant_ratings,on='Name',how='left')\n",
        "names_df.rename(columns={'Rating':'Avg Rating'},inplace=True)\n",
        "names_df.head(1)"
      ],
      "metadata": {
        "id": "19n4-sPbqm9H"
      },
      "execution_count": null,
      "outputs": []
    },
    {
      "cell_type": "code",
      "source": [
        "# info on the final dataset\n",
        "names_df.info()"
      ],
      "metadata": {
        "id": "9kG1_raXqrLz"
      },
      "execution_count": null,
      "outputs": []
    },
    {
      "cell_type": "code",
      "source": [
        "#five restaurants have not been rated by people yet\n",
        "names_df['Avg Rating'].fillna(0,inplace=True)"
      ],
      "metadata": {
        "id": "vpQIscV4qvIU"
      },
      "execution_count": null,
      "outputs": []
    },
    {
      "cell_type": "markdown",
      "source": [
        "####**Zomato Restaurant Reviews**"
      ],
      "metadata": {
        "id": "8dUI3UC3q8yH"
      }
    },
    {
      "cell_type": "code",
      "source": [
        "#head\n",
        "reviews_df.head(1)"
      ],
      "metadata": {
        "id": "99EnwGW3q3eP"
      },
      "execution_count": null,
      "outputs": []
    },
    {
      "cell_type": "code",
      "source": [
        "# splitting meta data into reviews and followers seperately\n",
        "reviews_df['Reviews'], reviews_df['Followers'] = reviews_df['Metadata'].str.split(',').str\n",
        "reviews_df['Reviews'] = pd.to_numeric(reviews_df['Reviews'].str.split(' ').str[0])\n",
        "reviews_df['Followers'] = pd.to_numeric(reviews_df['Followers'].str.split(' ').str[1])\n",
        "\n",
        "reviews_df.head(1)"
      ],
      "metadata": {
        "id": "TfZ0qD1RrB5B"
      },
      "execution_count": null,
      "outputs": []
    },
    {
      "cell_type": "code",
      "source": [
        "#drop Metadata\n",
        "reviews_df.drop(['Metadata'],axis=1,inplace=True)"
      ],
      "metadata": {
        "id": "ndiJwgbxrG8A"
      },
      "execution_count": null,
      "outputs": []
    },
    {
      "cell_type": "code",
      "source": [
        "#create a seperate detaframe for reviewers and their activity\n",
        "reviewers_df = reviews_df.groupby(['Reviewer','Reviews','Followers'])['Rating'].mean().reset_index()\n",
        "reviewers_df.sort_values(by=['Reviews','Followers','Rating'],ascending=[False,False,True],inplace=True,ignore_index=True)\n",
        "\n",
        "#sorting out the crtics of the industry, these are the people with most reviews written and most followers who have given low rating on an avg\n",
        "reviewers_df.head(3)"
      ],
      "metadata": {
        "id": "hhM64yxzrKWZ"
      },
      "execution_count": null,
      "outputs": []
    },
    {
      "cell_type": "markdown",
      "source": [
        "###**Exploratory Data Analysis**\n",
        "Exploratory data analysis is a crucial part of data analysis. It involves exploring and analyzing the dataset given to find patterns, trends and conclusions to make better decisions related to the data, often using statistical graphics and other data visualization tools to summarize the results. Python libraries like pandas are used to explore the data and matplotlib and seaborn to visualize it.\n",
        "\n",
        "Some important aspects to include in the project are as follows:\n",
        "\n",
        "*  Best restaurants in the city \n",
        "* The Most Popular Cuisines in Hyderabad\n",
        "* Restaurants and their Costs\n",
        "* Cost-Benefit Analysis\n",
        "* Hypotheses Generation on visualized data for Clustering"
      ],
      "metadata": {
        "id": "fKktScBIrpXK"
      }
    },
    {
      "cell_type": "markdown",
      "source": [
        "####**Best Restaurants in the City**\n",
        "\n",
        "There are various factors involved in choosing a good restaurant such as food, ambiance, cost, location, reviews, etc but the most important ones are cuisine, cost, and reviews.\n",
        "The first thing that comes to mind while choosing a good restaurant is if the cuisine you like is available at the restaurant and then the taste should also be good. The second thing is value for money, it is important that you get what you paid for. To help in the above decisions reviews come into place. They give you an idea of what the restaurant is like from people who had been to the place several times. \n",
        "\n",
        "The dataset here has the features- Name, Cost, Total Cuisines, and Average Ratings to help in the decision making. Best restaurants in the city would be having low cost and high ratings and the number of total cuisines served. Let's go ahead and explore a bit."
      ],
      "metadata": {
        "id": "9eUQYY-WrtwS"
      }
    },
    {
      "cell_type": "code",
      "source": [
        "# sorting out the best restaurants\n",
        "best_restaurants = names_df[['Name','Avg Rating','Total Cuisines','Cost']]\n",
        "best_restaurants.sort_values(by=['Avg Rating','Total Cuisines','Cost'],ascending=[False,False,True],inplace=True,ignore_index=True)\n",
        "#top10\n",
        "best_restaurants = best_restaurants.loc[0:9,:]\n",
        "best_restaurants"
      ],
      "metadata": {
        "id": "_PxiMYZyrQXr"
      },
      "execution_count": null,
      "outputs": []
    },
    {
      "cell_type": "code",
      "source": [
        "#visualizing the best restaurants \n",
        "sns.barplot(x='Avg Rating', y='Name',data=best_restaurants)\n",
        "plt.title('Best Restaurants in Hyderabad',size=10)"
      ],
      "metadata": {
        "id": "qOV79L4Cryni"
      },
      "execution_count": null,
      "outputs": []
    },
    {
      "cell_type": "code",
      "source": [
        "#distribution of Average Ratings in Hyderabad\n",
        "sns.distplot(x=names_df['Avg Rating'])\n",
        "plt.xlabel('Average Rating',size=8)\n",
        "plt.title('Distribution of Average Restaurant Ratings in Hyderabad',size=10)"
      ],
      "metadata": {
        "id": "kUeZGa5tr5ZD"
      },
      "execution_count": null,
      "outputs": []
    },
    {
      "cell_type": "markdown",
      "source": [
        "**Few restaurants in the original restaurant dataset have not been rated by the people yet, most restaurants have ratings between 3.5 and 4. Efforts should be made by the company to improve the existing restaurants by pushing them to act on the reviews and to include restaurants with better services in the future to improve overall rating distribution.**"
      ],
      "metadata": {
        "id": "qMcMkc4Ur-7e"
      }
    },
    {
      "cell_type": "markdown",
      "source": [
        "####**The Most Popular Cuisines in Hyderabad**"
      ],
      "metadata": {
        "id": "apJyVZPZsFem"
      }
    },
    {
      "cell_type": "code",
      "source": [
        "#creating a new dataframe for the cuisines and number of restaurants providing them\n",
        "#list of cuisines\n",
        "cuisines1 = list(cuisine_dict.keys())\n",
        "#creating a new dataframe\n",
        "popular_cuisines = pd.DataFrame()\n",
        "#creating a feature called cuisines and assigning unique cuisines as values\n",
        "popular_cuisines['Cuisines'] = cuisines1\n",
        "#creating a feature of sum of cuisines in the whole dataset\n",
        "popular_cuisines['Total Restaurants'] = [names_df[i].sum() for i in cuisines1]\n",
        "#sort values\n",
        "popular_cuisines.sort_values('Total Restaurants',ascending=False,inplace=True,ignore_index=True)\n",
        "popular_cuisines"
      ],
      "metadata": {
        "id": "yhXL8WrFr8iD"
      },
      "execution_count": null,
      "outputs": []
    },
    {
      "cell_type": "code",
      "source": [
        "#visualizing cuisines\n",
        "sns.barplot(x='Total Restaurants', y='Cuisines',data=popular_cuisines)\n",
        "plt.title('The Most Popular Cuisines in Hyderabad',size=10)"
      ],
      "metadata": {
        "id": "T1TrLcCusK1N"
      },
      "execution_count": null,
      "outputs": []
    },
    {
      "cell_type": "markdown",
      "source": [
        "**Although located in South India, North Indian food is dominating in the restaurants followed by Chinese, and Continental. The number of cuisines shows the diverse food options available in Hyderabad.**"
      ],
      "metadata": {
        "id": "QNKV9FxosVep"
      }
    },
    {
      "cell_type": "markdown",
      "source": [
        "####**Restaurants and their Costs**"
      ],
      "metadata": {
        "id": "vmVTjPCNsbs0"
      }
    },
    {
      "cell_type": "code",
      "source": [
        "#visualizing Restaurant Costs\n",
        "names_df.sort_values(['Cost']).plot(x=\"Name\", y=[\"Cost\"], kind=\"bar\", figsize=(20, 8))\n",
        "plt.xlabel('Restaurants',size=10)\n",
        "plt.ylabel('Cost',size=10)\n",
        "plt.title('Costs of Restaurants in Hyderabad',size=15)\n",
        "plt.legend(['Average Cost at Restaurant'])"
      ],
      "metadata": {
        "id": "RzEIKJcVsPdt"
      },
      "execution_count": null,
      "outputs": []
    },
    {
      "cell_type": "code",
      "source": [
        "#top 5 cheapest restaurants\n",
        "names_df[['Name','Cost']].sort_values(['Cost']).head()"
      ],
      "metadata": {
        "id": "A-o3j5CVsheR"
      },
      "execution_count": null,
      "outputs": []
    },
    {
      "cell_type": "markdown",
      "source": [
        "## **The cheapest restaurants in the dataset are basically small food joints and bakeries.**"
      ],
      "metadata": {
        "id": "muRmq1yoszLd"
      }
    },
    {
      "cell_type": "code",
      "source": [
        "#top 5 costliest restaurants\n",
        "names_df[['Name','Cost']].sort_values(['Cost'],ascending=False).head()"
      ],
      "metadata": {
        "id": "wbu4odCMsqya"
      },
      "execution_count": null,
      "outputs": []
    },
    {
      "cell_type": "markdown",
      "source": [
        "## **The most expensive restaurants in the dataset are restaurants by 4 star above hotels.**"
      ],
      "metadata": {
        "id": "iC8lP9nes7ba"
      }
    },
    {
      "cell_type": "code",
      "source": [
        "#distribution of Cost in Hyderabad\n",
        "sns.distplot(x=names_df['Cost'])\n",
        "plt.xlabel('Cost',size=8)\n",
        "plt.title('Distribution of Restaurant Costs in Hyderabad',size=10)"
      ],
      "metadata": {
        "id": "_vR-Pw7bs3RH"
      },
      "execution_count": null,
      "outputs": []
    },
    {
      "cell_type": "code",
      "source": [
        ""
      ],
      "metadata": {
        "id": "PJSK90_HtBxl"
      },
      "execution_count": null,
      "outputs": []
    }
  ]
}